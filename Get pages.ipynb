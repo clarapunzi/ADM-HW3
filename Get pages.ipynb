{
 "cells": [
  {
   "cell_type": "code",
   "execution_count": 1,
   "metadata": {},
   "outputs": [],
   "source": [
    "from html.parser import HTMLParser\n",
    "\n",
    "class MyHTMLParser(HTMLParser):\n",
    "    def handle_starttag(self, tag, attrs):\n",
    "        if tag != 'a':\n",
    "            return\n",
    "        self.urls.append(attrs[0][1])\n",
    "\n",
    "page = open('C:/Users/Clara/Desktop/sapienza/ADM/HM3/movies1.html').read()\n",
    "parser = MyHTMLParser()\n",
    "parser.urls = []\n",
    "parser.feed(page)\n"
   ]
  },
  {
   "cell_type": "code",
   "execution_count": 6,
   "metadata": {},
   "outputs": [
    {
     "name": "stdout",
     "output_type": "stream",
     "text": [
      "Error\n",
      "Error\n"
     ]
    }
   ],
   "source": [
    "import time     #For Delay\n",
    "import urllib.request    #Extracting web pages\n",
    "\n",
    "def download_page(url):\n",
    "    req = urllib.request.urlopen(url)\n",
    "    webpage = str(req.read())\n",
    "    with open(\"article_%d.html\" %i, \"w\") as file:\n",
    "        file.write(webpage)\n",
    "        \n",
    "for i in range(len(parser.urls)):\n",
    "    try:\n",
    "        download_page(parser.urls[i])\n",
    "        time.sleep(1)\n",
    "    except:\n",
    "        time.sleep(1200)"
   ]
  },
  {
   "cell_type": "code",
   "execution_count": null,
   "metadata": {},
   "outputs": [],
   "source": [
    "# Two urls don't correspond to any wikipedia pages:\n",
    "# 1. A distant thunder (1978_film)\n",
    "# 2. Image of the beast (film)\n",
    "\n",
    "# At the end I get 9998 movies"
   ]
  }
 ],
 "metadata": {
  "kernelspec": {
   "display_name": "Python 3",
   "language": "python",
   "name": "python3"
  },
  "language_info": {
   "codemirror_mode": {
    "name": "ipython",
    "version": 3
   },
   "file_extension": ".py",
   "mimetype": "text/x-python",
   "name": "python",
   "nbconvert_exporter": "python",
   "pygments_lexer": "ipython3",
   "version": "3.7.3"
  }
 },
 "nbformat": 4,
 "nbformat_minor": 2
}
