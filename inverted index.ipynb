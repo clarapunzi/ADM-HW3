{
 "cells": [
  {
   "cell_type": "code",
   "execution_count": 5,
   "metadata": {},
   "outputs": [],
   "source": [
    "import csv\n",
    "import json\n",
    "import pandas as pd"
   ]
  },
  {
   "cell_type": "code",
   "execution_count": 6,
   "metadata": {},
   "outputs": [],
   "source": [
    "NOTlinks = pd.read_csv('webpages/NOTlinks.csv', names=['Code', 'Title'], header = 0)\n",
    "dfList = list(NOTlinks['Code']) + [9429, 9671]"
   ]
  },
  {
   "cell_type": "code",
   "execution_count": 25,
   "metadata": {},
   "outputs": [],
   "source": [
    "# Create the file 'vocabulary' in which each term in intro and plot is mapped to an integer (term_id) \n",
    "\n",
    "voc = {}\n",
    "words = set() \n",
    "for i in range(10000):\n",
    "    if i not in dfList:\n",
    "        file = open('webpages/tsv clean/filtered_%d.tsv'%i).read().split('\\n\\n')[1]\n",
    "        tabs = file.split('\\t')[1]+file.split('\\t')[2]  # list of words in intro and plots\n",
    "        words.update(tabs.split())\n",
    "        \n",
    "for term_id, term in enumerate(words):\n",
    "    voc[term]= term_id    "
   ]
  },
  {
   "cell_type": "code",
   "execution_count": 8,
   "metadata": {},
   "outputs": [],
   "source": [
    "with open('vocabulary.json', 'w') as fp:\n",
    "    json.dump(voc, fp)"
   ]
  },
  {
   "cell_type": "code",
   "execution_count": 36,
   "metadata": {},
   "outputs": [],
   "source": [
    "# Create the Inverted Index\n",
    "\n",
    "inverted_index = dict.fromkeys(range(len(voc)), [])\n",
    "for i in range(10000):\n",
    "    if i not in dfList:\n",
    "        file = open('webpages/tsv clean/filtered_%d.tsv'%i).read()\n",
    "        lines = file.split('\\n\\n')[1]\n",
    "        tabs = lines.split('\\t')[1]+lines.split('\\t')[2]  # list of words in intro and plots\n",
    "        for word in set(tabs.split()):\n",
    "            inverted_index[voc[word]] = inverted_index[voc[word]]+[i]\n",
    "        "
   ]
  },
  {
   "cell_type": "code",
   "execution_count": 41,
   "metadata": {},
   "outputs": [],
   "source": [
    "with open('inverted_index.json', 'w') as fp:\n",
    "    json.dump(inverted_index, fp)"
   ]
  }
 ],
 "metadata": {
  "kernelspec": {
   "display_name": "Python 3",
   "language": "python",
   "name": "python3"
  },
  "language_info": {
   "codemirror_mode": {
    "name": "ipython",
    "version": 3
   },
   "file_extension": ".py",
   "mimetype": "text/x-python",
   "name": "python",
   "nbconvert_exporter": "python",
   "pygments_lexer": "ipython3",
   "version": "3.7.3"
  }
 },
 "nbformat": 4,
 "nbformat_minor": 2
}
