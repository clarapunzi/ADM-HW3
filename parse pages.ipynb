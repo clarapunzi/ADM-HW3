{
 "cells": [
  {
   "cell_type": "code",
   "execution_count": 18,
   "metadata": {},
   "outputs": [],
   "source": [
    "import csv\n",
    "from bs4 import BeautifulSoup"
   ]
  },
  {
   "cell_type": "code",
   "execution_count": 23,
   "metadata": {},
   "outputs": [],
   "source": [
    "# Global variables:\n",
    "head_wiki = ['Directed by', 'Produced by', 'Written by', 'Starring', 'Music by', 'Release date', 'Running time', 'Country', 'Language', 'Budget']\n",
    "head = ['title', 'intro', 'plot', 'film_name', 'director', 'producer', 'writer', 'starring', 'music', 'release date', 'runtime', 'country', 'language', 'budget']\n",
    "infos = ['NA']*14\n",
    "\n",
    "for i in range(2):\n",
    "    if i == 9429 or i == 9671:\n",
    "        continue\n",
    "    page = open('C:/Users/Clara/Desktop/sapienza/ADM/HM3/webpages/articles/article_%d.html' %i).read()\n",
    "    soup = BeautifulSoup(page, 'html.parser')\n",
    "    infos = parse_page(soup)\n",
    "    \n",
    "    with open('output_%d.tsv'%i, 'w') as out_file:\n",
    "        tsv_writer = csv.writer(out_file, delimiter='\\t')\n",
    "        tsv_writer.writerow(head)\n",
    "        tsv_writer.writerow(infos)\n"
   ]
  },
  {
   "cell_type": "code",
   "execution_count": 5,
   "metadata": {},
   "outputs": [],
   "source": [
    "# Define a function to get all the information available in the infobox\n",
    "\n",
    "def parse_page(soup):\n",
    "    infos_local = infos\n",
    "    infobox = soup.table.find_all('tr')\n",
    "    infos_local[:4] =[soup.title.text, soup.find_all('p')[0].text, soup.find_all('p')[1].text, infobox[0].text]\n",
    "    # complete the list 'infos' with the available information\n",
    "    for j in range(len(head_wiki)):\n",
    "        for i in range(2,len(infobox)):\n",
    "            if head_wiki[j] == infobox[i].th.text:\n",
    "                infos_local[j+4] = infobox[i].td.text   # names in head_wiki correspond to those in head[4:]\n",
    "                break\n",
    "    return infos_local"
   ]
  }
 ],
 "metadata": {
  "kernelspec": {
   "display_name": "Python 3",
   "language": "python",
   "name": "python3"
  },
  "language_info": {
   "codemirror_mode": {
    "name": "ipython",
    "version": 3
   },
   "file_extension": ".py",
   "mimetype": "text/x-python",
   "name": "python",
   "nbconvert_exporter": "python",
   "pygments_lexer": "ipython3",
   "version": "3.7.3"
  }
 },
 "nbformat": 4,
 "nbformat_minor": 2
}
