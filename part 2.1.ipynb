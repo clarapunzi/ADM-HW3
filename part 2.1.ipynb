{
 "cells": [
  {
   "cell_type": "code",
   "execution_count": 13,
   "metadata": {},
   "outputs": [],
   "source": [
    "import os\n",
    "import re\n",
    "import io \n",
    "import string\n",
    "import nltk\n",
    "import unicodedata\n",
    "from nltk.tokenize import RegexpTokenizer\n",
    "from nltk.corpus import stopwords \n",
    "from nltk.tokenize import word_tokenize \n",
    "from nltk.stem import WordNetLemmatizer\n",
    "wordnet_lemmatizer = WordNetLemmatizer()\n",
    "from nltk.stem import PorterStemmer "
   ]
  },
  {
   "cell_type": "code",
   "execution_count": 18,
   "metadata": {},
   "outputs": [],
   "source": [
    "def preprocessor(file):\n",
    "    stop_words = set(stopwords.words('english')) \n",
    "    text = file.read()\n",
    "    file.close()\n",
    "    ############################\n",
    "    line_entry = text.lower()\n",
    "    \n",
    "    # taking only intro and plot\n",
    "    intro_and_plot = []\n",
    "    for i in range(3):\n",
    "        intro_and_plot.append(line_entry[:line_entry.find(\"\\t\")].strip())\n",
    "        line_entry = line_entry[line_entry.find(\"\\t\") + 2:]\n",
    "    intro_and_plot.pop(0)  # only intro and plot\n",
    "    \n",
    "    #intro_and_plot is the list of sentences \n",
    "    tokenizer  = RegexpTokenizer(r'\\w+')\n",
    "    ps = PorterStemmer()\n",
    "    for _ in range(len(intro_and_plot)):\n",
    "        # _ is a string\n",
    "        word = intro_and_plot[_].split()\n",
    "        #removing stop words\n",
    "        words = [w for w in word if not w in stop_words]\n",
    "        #removing Punctuation from each word\n",
    "        punct_remove = [\" \".join(tokenizer.tokenize(w)) for w in words]\n",
    "        #removing stem\n",
    "        stemmed = [ps.stem(w) for w in punct_remove]\n",
    "        #removing Accent\n",
    "        accents = [unicodedata.normalize(u'NFKD', w).encode('ascii', 'ignore').decode('utf8') for w in stemmed]\n",
    "        intro_and_plot[_] = \" \".join(accents)\n",
    "        \n",
    "    string = \"\"\n",
    "    for _ in intro_and_plot:\n",
    "        string += _+\"    \"    \n",
    "    return string.strip()"
   ]
  },
  {
   "cell_type": "code",
   "execution_count": 37,
   "metadata": {},
   "outputs": [],
   "source": [
    "def vocabulary(string, index):\n",
    "    single_words = nltk.word_tokenize(string)\n",
    "    for i in range(len(single_words)):\n",
    "        if single_words[i] not in dict_map.values():\n",
    "                    dict_map[index] = single_words[i]   ######## here's the problem\n",
    "                    index += 1\n",
    "# creating a dict which assign a index to a word univocally"
   ]
  },
  {
   "cell_type": "code",
   "execution_count": 38,
   "metadata": {},
   "outputs": [],
   "source": [
    "dict_map = {}\n",
    "index = 0\n",
    "# list of directory in one folder\n",
    "for file in os.listdir(r\"C:\\Users\\greeshma\\Desktop\\tsv1\"):\n",
    "    if file.endswith(\".tsv\"):\n",
    "        path_fold = r\"C:\\Users\\greeshma\\Desktop\\tsv1\"\n",
    "        file_to = open(os.path.join(path_fold, file), encoding=\"utf8\")\n",
    "        vocabulary(preprocessor(file_to), index) "
   ]
  },
  {
   "cell_type": "code",
   "execution_count": 39,
   "metadata": {},
   "outputs": [
    {
     "data": {
      "text/plain": [
       "879"
      ]
     },
     "execution_count": 39,
     "metadata": {},
     "output_type": "execute_result"
    }
   ],
   "source": [
    "len(dict_map)\n"
   ]
  }
 ],
 "metadata": {
  "kernelspec": {
   "display_name": "Python 3",
   "language": "python",
   "name": "python3"
  },
  "language_info": {
   "codemirror_mode": {
    "name": "ipython",
    "version": 3
   },
   "file_extension": ".py",
   "mimetype": "text/x-python",
   "name": "python",
   "nbconvert_exporter": "python",
   "pygments_lexer": "ipython3",
   "version": "3.7.3"
  }
 },
 "nbformat": 4,
 "nbformat_minor": 2
}
