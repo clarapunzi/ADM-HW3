{
 "cells": [
  {
   "cell_type": "code",
   "execution_count": 1,
   "metadata": {
    "scrolled": true
   },
   "outputs": [],
   "source": [
    "import csv\n",
    "import pandas as pd\n",
    "import nltk\n",
    "from nltk.corpus import stopwords\n",
    "from nltk.stem import PorterStemmer \n",
    "import json \n",
    "\n",
    "stop_words = set(stopwords.words('english')) \n",
    "ps = PorterStemmer()\n",
    "urls = json.load(open('urls.json'))"
   ]
  },
  {
   "cell_type": "code",
   "execution_count": 18,
   "metadata": {},
   "outputs": [],
   "source": [
    "voc = json.load(open('C:/Users/Clara/Desktop/sapienza/ADM/HM3/vocabulary.json'))\n",
    "inverted_index = json.load(open('C:/Users/Clara/Desktop/sapienza/ADM/HM3/inverted_index.json'))"
   ]
  },
  {
   "cell_type": "code",
   "execution_count": 76,
   "metadata": {
    "scrolled": true
   },
   "outputs": [
    {
     "name": "stdout",
     "output_type": "stream",
     "text": [
      "english united states\n"
     ]
    }
   ],
   "source": [
    "query = input().split()"
   ]
  },
  {
   "cell_type": "code",
   "execution_count": 77,
   "metadata": {},
   "outputs": [],
   "source": [
    "# Clean input:\n",
    "\n",
    "def clean(query):\n",
    "    cleanQ = []\n",
    "    for word in query:\n",
    "        if not word in stop_words and word.isalnum():\n",
    "            word = ps.stem(word)\n",
    "            cleanQ.append(word)\n",
    "    return cleanQ\n",
    "\n",
    "query = clean(query)"
   ]
  },
  {
   "cell_type": "code",
   "execution_count": 78,
   "metadata": {},
   "outputs": [],
   "source": [
    "# Get the term_id of the words in the query (integers)\n",
    "\n",
    "query_index = [voc[word] for word in query]"
   ]
  },
  {
   "cell_type": "code",
   "execution_count": 94,
   "metadata": {},
   "outputs": [],
   "source": [
    "# Get the document_if of the documents containing the words in the query\n",
    "\n",
    "allDOC = [inverted_index[str(word)] for word in query_index]\n",
    "query_match = set(allDOC[0]).intersection(*allDOC[1:])\n",
    "\n",
    "# Show the result of the query in a dataframe\n",
    "\n",
    "df = pd.DataFrame(columns=['Title','Intro','Wikipedia Url'])\n",
    "\n",
    "def make_clickable(val):  # function that make the links clickable\n",
    "    return '<a target=\"_blank\" href=\"{}\">{}</a>'.format(val, val)\n",
    "\n",
    "for film in query_match:\n",
    "    i = int(film)\n",
    "    file = open('C:/Users/Clara/Desktop/sapienza/ADM/HM3/webpages/tsv/output_%d.tsv' %i).read().split('\\n\\n')[1].split('\\t')\n",
    "    title, intro, link = file[3].encode('utf8').decode(\"unicode_escape\"), file[1].encode('utf8').decode(\"unicode_escape\"), urls[str(film)]\n",
    "    new_row = {'Title':title, 'Intro': intro, 'Wikipedia Url': link}\n",
    "    df = df.append(new_row, ignore_index=True)"
   ]
  },
  {
   "cell_type": "code",
   "execution_count": 95,
   "metadata": {},
   "outputs": [
    {
     "data": {
      "text/html": [
       "<style  type=\"text/css\" >\n",
       "    #T_f5f39736_05a5_11ea_8c15_f12e0c80e534 th {\n",
       "          text-align: center;\n",
       "    }    #T_f5f39736_05a5_11ea_8c15_f12e0c80e534row0_col0 {\n",
       "            text-align:  center;\n",
       "            width:  130px;\n",
       "        }    #T_f5f39736_05a5_11ea_8c15_f12e0c80e534row0_col1 {\n",
       "            text-align:  center;\n",
       "        }    #T_f5f39736_05a5_11ea_8c15_f12e0c80e534row0_col2 {\n",
       "            text-align:  center;\n",
       "        }    #T_f5f39736_05a5_11ea_8c15_f12e0c80e534row1_col0 {\n",
       "            text-align:  center;\n",
       "            width:  130px;\n",
       "        }    #T_f5f39736_05a5_11ea_8c15_f12e0c80e534row1_col1 {\n",
       "            text-align:  center;\n",
       "        }    #T_f5f39736_05a5_11ea_8c15_f12e0c80e534row1_col2 {\n",
       "            text-align:  center;\n",
       "        }    #T_f5f39736_05a5_11ea_8c15_f12e0c80e534row2_col0 {\n",
       "            text-align:  center;\n",
       "            width:  130px;\n",
       "        }    #T_f5f39736_05a5_11ea_8c15_f12e0c80e534row2_col1 {\n",
       "            text-align:  center;\n",
       "        }    #T_f5f39736_05a5_11ea_8c15_f12e0c80e534row2_col2 {\n",
       "            text-align:  center;\n",
       "        }    #T_f5f39736_05a5_11ea_8c15_f12e0c80e534row3_col0 {\n",
       "            text-align:  center;\n",
       "            width:  130px;\n",
       "        }    #T_f5f39736_05a5_11ea_8c15_f12e0c80e534row3_col1 {\n",
       "            text-align:  center;\n",
       "        }    #T_f5f39736_05a5_11ea_8c15_f12e0c80e534row3_col2 {\n",
       "            text-align:  center;\n",
       "        }    #T_f5f39736_05a5_11ea_8c15_f12e0c80e534row4_col0 {\n",
       "            text-align:  center;\n",
       "            width:  130px;\n",
       "        }    #T_f5f39736_05a5_11ea_8c15_f12e0c80e534row4_col1 {\n",
       "            text-align:  center;\n",
       "        }    #T_f5f39736_05a5_11ea_8c15_f12e0c80e534row4_col2 {\n",
       "            text-align:  center;\n",
       "        }    #T_f5f39736_05a5_11ea_8c15_f12e0c80e534row5_col0 {\n",
       "            text-align:  center;\n",
       "            width:  130px;\n",
       "        }    #T_f5f39736_05a5_11ea_8c15_f12e0c80e534row5_col1 {\n",
       "            text-align:  center;\n",
       "        }    #T_f5f39736_05a5_11ea_8c15_f12e0c80e534row5_col2 {\n",
       "            text-align:  center;\n",
       "        }    #T_f5f39736_05a5_11ea_8c15_f12e0c80e534row6_col0 {\n",
       "            text-align:  center;\n",
       "            width:  130px;\n",
       "        }    #T_f5f39736_05a5_11ea_8c15_f12e0c80e534row6_col1 {\n",
       "            text-align:  center;\n",
       "        }    #T_f5f39736_05a5_11ea_8c15_f12e0c80e534row6_col2 {\n",
       "            text-align:  center;\n",
       "        }    #T_f5f39736_05a5_11ea_8c15_f12e0c80e534row7_col0 {\n",
       "            text-align:  center;\n",
       "            width:  130px;\n",
       "        }    #T_f5f39736_05a5_11ea_8c15_f12e0c80e534row7_col1 {\n",
       "            text-align:  center;\n",
       "        }    #T_f5f39736_05a5_11ea_8c15_f12e0c80e534row7_col2 {\n",
       "            text-align:  center;\n",
       "        }    #T_f5f39736_05a5_11ea_8c15_f12e0c80e534row8_col0 {\n",
       "            text-align:  center;\n",
       "            width:  130px;\n",
       "        }    #T_f5f39736_05a5_11ea_8c15_f12e0c80e534row8_col1 {\n",
       "            text-align:  center;\n",
       "        }    #T_f5f39736_05a5_11ea_8c15_f12e0c80e534row8_col2 {\n",
       "            text-align:  center;\n",
       "        }    #T_f5f39736_05a5_11ea_8c15_f12e0c80e534row9_col0 {\n",
       "            text-align:  center;\n",
       "            width:  130px;\n",
       "        }    #T_f5f39736_05a5_11ea_8c15_f12e0c80e534row9_col1 {\n",
       "            text-align:  center;\n",
       "        }    #T_f5f39736_05a5_11ea_8c15_f12e0c80e534row9_col2 {\n",
       "            text-align:  center;\n",
       "        }    #T_f5f39736_05a5_11ea_8c15_f12e0c80e534row10_col0 {\n",
       "            text-align:  center;\n",
       "            width:  130px;\n",
       "        }    #T_f5f39736_05a5_11ea_8c15_f12e0c80e534row10_col1 {\n",
       "            text-align:  center;\n",
       "        }    #T_f5f39736_05a5_11ea_8c15_f12e0c80e534row10_col2 {\n",
       "            text-align:  center;\n",
       "        }</style><table id=\"T_f5f39736_05a5_11ea_8c15_f12e0c80e534\" ><thead>    <tr>        <th class=\"col_heading level0 col0\" >Title</th>        <th class=\"col_heading level0 col1\" >Intro</th>        <th class=\"col_heading level0 col2\" >Wikipedia Url</th>    </tr></thead><tbody>\n",
       "                <tr>\n",
       "                                <td id=\"T_f5f39736_05a5_11ea_8c15_f12e0c80e534row0_col0\" class=\"data row0 col0\" >Ace Eli and Rodger of the Skies</td>\n",
       "                        <td id=\"T_f5f39736_05a5_11ea_8c15_f12e0c80e534row0_col1\" class=\"data row0 col1\" >Ace Eli and Rodger of the Skies is a 1973 American adventure-comedy film based on a story by Steven Spielberg. The film centers on a barnstorming pilot (Cliff Robertson) and his son (Eric Shea) as they fly around the United States in the 1920s, having adventures along the way. English actress Pamela Franklin provided the love interest. One of the driving forces behind the production, Robertson was a pilot in real life, although Hollywood stunt pilot Frank Tallman flew most of the aerial scenes.[3]\n",
       "</td>\n",
       "                        <td id=\"T_f5f39736_05a5_11ea_8c15_f12e0c80e534row0_col2\" class=\"data row0 col2\" ><a target=\"_blank\" href=\"https://en.wikipedia.org/wiki/Ace_Eli_and_Rodger_of_the_Skies\">https://en.wikipedia.org/wiki/Ace_Eli_and_Rodger_of_the_Skies</a></td>\n",
       "            </tr>\n",
       "            <tr>\n",
       "                                <td id=\"T_f5f39736_05a5_11ea_8c15_f12e0c80e534row1_col0\" class=\"data row1 col0\" >A Gathering of Eagles</td>\n",
       "                        <td id=\"T_f5f39736_05a5_11ea_8c15_f12e0c80e534row1_col1\" class=\"data row1 col1\" >A Gathering of Eagles is a 1963 Eastmancolor film about the U.S. Air Force during the Cold War and the pressures of command. The plot is patterned after the World War II film Twelve O'Clock High, which producer-screenwriter Sy Bartlett also wrote, with elements also mirroring Above and Beyond and Toward the Unknown, films written by his collaborator, Beirne Lay Jr.  The film was directed by Delbert Mann.\n",
       "</td>\n",
       "                        <td id=\"T_f5f39736_05a5_11ea_8c15_f12e0c80e534row1_col2\" class=\"data row1 col2\" ><a target=\"_blank\" href=\"https://en.wikipedia.org/wiki/A_Gathering_of_Eagles\">https://en.wikipedia.org/wiki/A_Gathering_of_Eagles</a></td>\n",
       "            </tr>\n",
       "            <tr>\n",
       "                                <td id=\"T_f5f39736_05a5_11ea_8c15_f12e0c80e534row2_col0\" class=\"data row2 col0\" >The Barbarian</td>\n",
       "                        <td id=\"T_f5f39736_05a5_11ea_8c15_f12e0c80e534row2_col1\" class=\"data row2 col1\" >The Barbarian, also known as A Night in Cairo, is a 1933 American pre-Code romance drama film produced and directed by Sam Wood and starring Ramon Novarro and Myrna Loy. Written by Elmer Harris and Anita Loos, and based on the play The Arab by Edgar Selwyn, the film is about an American woman tourist in Egypt who has several suitors, among them an Arab guide who is more than he seems. The film was released on May 12, 1933 in the United States by Metro-Goldwyn-Mayer. The play had been filmed previously by MGM as The Arab (1924) with Novarro and Alice Terry.[1]\n",
       "</td>\n",
       "                        <td id=\"T_f5f39736_05a5_11ea_8c15_f12e0c80e534row2_col2\" class=\"data row2 col2\" ><a target=\"_blank\" href=\"https://en.wikipedia.org/wiki/The_Barbarian_(1933_film)\">https://en.wikipedia.org/wiki/The_Barbarian_(1933_film)</a></td>\n",
       "            </tr>\n",
       "            <tr>\n",
       "                                <td id=\"T_f5f39736_05a5_11ea_8c15_f12e0c80e534row3_col0\" class=\"data row3 col0\" >The Last of the Mohicans</td>\n",
       "                        <td id=\"T_f5f39736_05a5_11ea_8c15_f12e0c80e534row3_col1\" class=\"data row3 col1\" >The Last of the Mohicans is a 1920 American film adapted from James Fenimore Cooper's novel of the same name.  Clarence Brown and Maurice Tourneur directed an adaption by Robert Dillon â a story of two English sisters meeting danger on the frontier of the American colonies, in and around the fort commanded by their father.  The adventure film stars Wallace Beery, Barbara Bedford, Lillian Hall and Alan Roscoe.\n",
       "</td>\n",
       "                        <td id=\"T_f5f39736_05a5_11ea_8c15_f12e0c80e534row3_col2\" class=\"data row3 col2\" ><a target=\"_blank\" href=\"https://en.wikipedia.org/wiki/The_Last_of_the_Mohicans_(1920_American_film)\">https://en.wikipedia.org/wiki/The_Last_of_the_Mohicans_(1920_American_film)</a></td>\n",
       "            </tr>\n",
       "            <tr>\n",
       "                                <td id=\"T_f5f39736_05a5_11ea_8c15_f12e0c80e534row4_col0\" class=\"data row4 col0\" >Pride and Prejudice</td>\n",
       "                        <td id=\"T_f5f39736_05a5_11ea_8c15_f12e0c80e534row4_col1\" class=\"data row4 col1\" >\"Pride and Prejudice is a 1940 American film adaptation of Jane Austen's novel Pride and Prejudice, directed by Robert Z. Leonard and starring Greer Garson and Laurence Olivier. The screenplay was written by Aldous Huxley and Jane Murfin, adapted specifically from the stage adaptation by Helen Jerome in addition to Jane Austen's novel. The film is about five sisters from an English family of landed gentry who must deal with issues of marriage, morality, and misconceptions. The film was released by MGM on July 26, 1940, in the United States and was critically well received. The New York Times film critic praised the film as \"\"the most deliciously pert comedy of old manners, the most crisp and crackling satire in costume that we in this corner can remember ever having seen on the screen.\"\"[3]\n",
       "\"</td>\n",
       "                        <td id=\"T_f5f39736_05a5_11ea_8c15_f12e0c80e534row4_col2\" class=\"data row4 col2\" ><a target=\"_blank\" href=\"https://en.wikipedia.org/wiki/Pride_and_Prejudice_(1940_film)\">https://en.wikipedia.org/wiki/Pride_and_Prejudice_(1940_film)</a></td>\n",
       "            </tr>\n",
       "            <tr>\n",
       "                                <td id=\"T_f5f39736_05a5_11ea_8c15_f12e0c80e534row5_col0\" class=\"data row5 col0\" >Munster, Go Home!</td>\n",
       "                        <td id=\"T_f5f39736_05a5_11ea_8c15_f12e0c80e534row5_col1\" class=\"data row5 col1\" >Munster, Go Home! is a 1966 American comedy horror film based on the hit 1960s family television sitcom The Munsters. It was directed by Earl Bellamy, who also directed a number of episodes in the series. The film was produced immediately after the television series completed filming for its original run, and included the original cast with the exception of Marilyn, who was played by Debbie Watson replacing Pat Priest from the series.\n",
       "</td>\n",
       "                        <td id=\"T_f5f39736_05a5_11ea_8c15_f12e0c80e534row5_col2\" class=\"data row5 col2\" ><a target=\"_blank\" href=\"https://en.wikipedia.org/wiki/Munster,_Go_Home!\">https://en.wikipedia.org/wiki/Munster,_Go_Home!</a></td>\n",
       "            </tr>\n",
       "            <tr>\n",
       "                                <td id=\"T_f5f39736_05a5_11ea_8c15_f12e0c80e534row6_col0\" class=\"data row6 col0\" >Corregidor</td>\n",
       "                        <td id=\"T_f5f39736_05a5_11ea_8c15_f12e0c80e534row6_col1\" class=\"data row6 col1\" >\"Corregidor  is a 1943 American war film directed by William Nigh and starring Otto Kruger, Elissa Landi and Donald Woods.[Note 1] The film is set in December 1941 through May 1942 during the Japanese invasion of the Philippines. Corregidor opens with the following written dedication: \"\"Dedicated to the heroes of the United States and Philippine Armed Forces, and the American Red Cross.\"\" The film closes with a poem about Corregidor written and narrated by English poet Alfred Noyes.[2].mw-parser-output .toclimit-2 .toclevel-1 ul,.mw-parser-output .toclimit-3 .toclevel-2 ul,.mw-parser-output .toclimit-4 .toclevel-3 ul,.mw-parser-output .toclimit-5 .toclevel-4 ul,.mw-parser-output .toclimit-6 .toclevel-5 ul,.mw-parser-output .toclimit-7 .toclevel-6 ul{display:none}\"</td>\n",
       "                        <td id=\"T_f5f39736_05a5_11ea_8c15_f12e0c80e534row6_col2\" class=\"data row6 col2\" ><a target=\"_blank\" href=\"https://en.wikipedia.org/wiki/Corregidor_(1943_film)\">https://en.wikipedia.org/wiki/Corregidor_(1943_film)</a></td>\n",
       "            </tr>\n",
       "            <tr>\n",
       "                                <td id=\"T_f5f39736_05a5_11ea_8c15_f12e0c80e534row7_col0\" class=\"data row7 col0\" >A Farewell to Arms</td>\n",
       "                        <td id=\"T_f5f39736_05a5_11ea_8c15_f12e0c80e534row7_col1\" class=\"data row7 col1\" >A Farewell to Arms is a 1932 American pre-Code romance drama film directed by Frank Borzage and starring Helen Hayes, Gary Cooper, and Adolphe Menjou.[2] Based on the 1929 semi-autobiographical novel A Farewell to Arms by Ernest Hemingway, with a screenplay by Oliver H.P. Garrett and Benjamin Glazer, the film is about a tragic romantic love affair between an American ambulance driver and an English nurse in Italy during World War I. The film received Academy Awards for Best Cinematography and Best Sound, and was nominated for Best Picture and Best Art Direction.[2]\n",
       "</td>\n",
       "                        <td id=\"T_f5f39736_05a5_11ea_8c15_f12e0c80e534row7_col2\" class=\"data row7 col2\" ><a target=\"_blank\" href=\"https://en.wikipedia.org/wiki/A_Farewell_to_Arms_(1932_film)\">https://en.wikipedia.org/wiki/A_Farewell_to_Arms_(1932_film)</a></td>\n",
       "            </tr>\n",
       "            <tr>\n",
       "                                <td id=\"T_f5f39736_05a5_11ea_8c15_f12e0c80e534row8_col0\" class=\"data row8 col0\" >Don't Fence Me In</td>\n",
       "                        <td id=\"T_f5f39736_05a5_11ea_8c15_f12e0c80e534row8_col1\" class=\"data row8 col1\" >\"Don't Fence Me In is a 1945 black-and-white Western film directed by John English and starring the \"\"King of the Cowboys\"\" Roy Rogers and his palomino Trigger, promoted in the production's opening credits and on theater posters as \"\"The Smartest Horse in the Movies\"\".[2] Also featured in the film are Roy's sidekick George \"\"Gabby\"\" Hayes and Rogers' future wife Dale Evans. Produced and distributed by Republic Pictures, Don't Fence Me In is part of a long-running series of singing-cowboy films released by that company to showcase Rogers' musical talents and equestrian skills, as well as Trigger's abilities at performing impressive stunts and tricks.[3]\n",
       "\"</td>\n",
       "                        <td id=\"T_f5f39736_05a5_11ea_8c15_f12e0c80e534row8_col2\" class=\"data row8 col2\" ><a target=\"_blank\" href=\"https://en.wikipedia.org/wiki/Don%27t_Fence_Me_In_(film)\">https://en.wikipedia.org/wiki/Don%27t_Fence_Me_In_(film)</a></td>\n",
       "            </tr>\n",
       "            <tr>\n",
       "                                <td id=\"T_f5f39736_05a5_11ea_8c15_f12e0c80e534row9_col0\" class=\"data row9 col0\" >The Yankee Clipper</td>\n",
       "                        <td id=\"T_f5f39736_05a5_11ea_8c15_f12e0c80e534row9_col1\" class=\"data row9 col1\" >The Yankee Clipper is a 1927 American adventure film produced by Cecil B. DeMille and directed by Rupert Julian. It is set against the maritime rivalry between the United States and Great Britain in the mid-19th century.[1][2]\n",
       "</td>\n",
       "                        <td id=\"T_f5f39736_05a5_11ea_8c15_f12e0c80e534row9_col2\" class=\"data row9 col2\" ><a target=\"_blank\" href=\"https://en.wikipedia.org/wiki/The_Yankee_Clipper_(1927_film)\">https://en.wikipedia.org/wiki/The_Yankee_Clipper_(1927_film)</a></td>\n",
       "            </tr>\n",
       "            <tr>\n",
       "                                <td id=\"T_f5f39736_05a5_11ea_8c15_f12e0c80e534row10_col0\" class=\"data row10 col0\" >The Gilded Lily</td>\n",
       "                        <td id=\"T_f5f39736_05a5_11ea_8c15_f12e0c80e534row10_col1\" class=\"data row10 col1\" >The Gilded Lily is a 1935 American romantic comedy film directed by Wesley Ruggles and starring Claudette Colbert, Fred MacMurray, Ray Milland, and C. Aubrey Smith. The production's screenplay, written by Claude Binyon, is about a stenographer who becomes a famous cafÃ© entertainer courted by an English aristocrat and an American newspaper reporter. Released by Paramount Pictures in the United States on January 25, 1935, the film is one of the English language films chosen by the National Board of Review for its top-10 list of 1935. The Gilded Lily is also the first of seven films in which Claudette Colbert and Fred MacMurray costar.\n",
       "</td>\n",
       "                        <td id=\"T_f5f39736_05a5_11ea_8c15_f12e0c80e534row10_col2\" class=\"data row10 col2\" ><a target=\"_blank\" href=\"https://en.wikipedia.org/wiki/The_Gilded_Lily_(1935_film)\">https://en.wikipedia.org/wiki/The_Gilded_Lily_(1935_film)</a></td>\n",
       "            </tr>\n",
       "    </tbody></table>"
      ],
      "text/plain": [
       "<pandas.io.formats.style.Styler at 0x2115f356710>"
      ]
     },
     "execution_count": 95,
     "metadata": {},
     "output_type": "execute_result"
    }
   ],
   "source": [
    "d = dict(selector=\"th\", props=[('text-align', 'center')])\n",
    "df.style.format({'Wikipedia Url': make_clickable}).hide_index().set_table_styles([d]).set_properties(**{'text-align': 'center'}).set_properties(subset=['Title'], **{'width': '130px'})"
   ]
  }
 ],
 "metadata": {
  "kernelspec": {
   "display_name": "Python 3",
   "language": "python",
   "name": "python3"
  },
  "language_info": {
   "codemirror_mode": {
    "name": "ipython",
    "version": 3
   },
   "file_extension": ".py",
   "mimetype": "text/x-python",
   "name": "python",
   "nbconvert_exporter": "python",
   "pygments_lexer": "ipython3",
   "version": "3.7.3"
  }
 },
 "nbformat": 4,
 "nbformat_minor": 2
}
